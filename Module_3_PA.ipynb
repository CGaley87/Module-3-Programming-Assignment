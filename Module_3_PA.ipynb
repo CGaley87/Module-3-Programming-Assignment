{
 "cells": [
  {
   "cell_type": "code",
   "execution_count": null,
   "id": "4d40d11d-2b4c-4e45-ba45-debeb8604027",
   "metadata": {},
   "outputs": [],
   "source": [
    "#Curtis Galey\n",
    "#Module_3_PA.ipynb\n",
    "#7.4 Make a list called things with these three strings as elements: \"mozzarella\", \"cinderella\", \"salmonella\".\n",
    "#7.5 Capitalize the element in things that refers to a person and then print the list. Did it change the element in the list?\n",
    "#7.6 Make the cheesy element of things all uppercase and then print the list.\n",
    "#7.7 Delete the disease element from things, collect your Nobel Prize, and print the list.\n",
    "#9.1 Define a function called good() that returns the following list: ['Harry', 'Ron', 'Hermione'].\n",
    "#9.2 Define a generator function called get_odds() that returns the odd numbers from range(10). Use a for loop to find and\n",
    "#print the third value returned."
   ]
  },
  {
   "cell_type": "code",
   "execution_count": 1,
   "id": "f6e3add6-3ef5-4ce3-b7cb-e7babc2225a0",
   "metadata": {},
   "outputs": [],
   "source": [
    "#7.4\n",
    "things = ['mozzarella', 'cinderella', 'salmonella']"
   ]
  },
  {
   "cell_type": "code",
   "execution_count": 5,
   "id": "29fee5bd-7f8b-4561-bfae-6c322d1671ff",
   "metadata": {},
   "outputs": [
    {
     "name": "stdout",
     "output_type": "stream",
     "text": [
      "['mozzarella', 'Cinderella', 'salmonella']\n"
     ]
    }
   ],
   "source": [
    "#7.5\n",
    "things[1] = things[1].title()\n",
    "print(things)"
   ]
  },
  {
   "cell_type": "markdown",
   "id": "733c4cea-a421-4417-bf2d-eaeb4a6e2fd3",
   "metadata": {},
   "source": [
    "Yes, it did change the list 'things'"
   ]
  },
  {
   "cell_type": "code",
   "execution_count": 6,
   "id": "0d184f97-8bf0-4ac0-8237-4e4870dc52b2",
   "metadata": {},
   "outputs": [
    {
     "name": "stdout",
     "output_type": "stream",
     "text": [
      "['MOZZARELLA', 'Cinderella', 'salmonella']\n"
     ]
    }
   ],
   "source": [
    "#7.6\n",
    "things[0] = things[0].upper()\n",
    "print(things)"
   ]
  },
  {
   "cell_type": "code",
   "execution_count": 7,
   "id": "a4fe446a-8497-41aa-8c1d-a323f3b03917",
   "metadata": {},
   "outputs": [
    {
     "name": "stdout",
     "output_type": "stream",
     "text": [
      "['MOZZARELLA', 'Cinderella']\n"
     ]
    }
   ],
   "source": [
    "#7.7\n",
    "things.pop(2)\n",
    "print(things)"
   ]
  },
  {
   "cell_type": "code",
   "execution_count": 9,
   "id": "d6f6f8ba-2019-4c24-9179-da0613ddcf82",
   "metadata": {},
   "outputs": [
    {
     "name": "stdout",
     "output_type": "stream",
     "text": [
      "['Harry', 'Ron', 'Hermione']\n"
     ]
    }
   ],
   "source": [
    "#9.1\n",
    "def good():\n",
    "    return ['Harry', 'Ron', 'Hermione']\n",
    "\n",
    "print(good())"
   ]
  },
  {
   "cell_type": "code",
   "execution_count": 16,
   "id": "40b20c0f-1f12-4f13-b9e4-6ae89a39b2e8",
   "metadata": {},
   "outputs": [
    {
     "name": "stdout",
     "output_type": "stream",
     "text": [
      "5\n"
     ]
    }
   ],
   "source": [
    "#9.2\n",
    "def get_odds():\n",
    "    for number in range(10):\n",
    "        if number % 2 == 1: #checks if number is odd\n",
    "            yield number\n",
    "\n",
    "count = 0\n",
    "for odd in get_odds():\n",
    "    count += 1\n",
    "    if count == 3: #stop when reaching the 3rd number in the list.\n",
    "        print(odd)\n",
    "        break"
   ]
  }
 ],
 "metadata": {
  "kernelspec": {
   "display_name": "Python [conda env:base] *",
   "language": "python",
   "name": "conda-base-py"
  },
  "language_info": {
   "codemirror_mode": {
    "name": "ipython",
    "version": 3
   },
   "file_extension": ".py",
   "mimetype": "text/x-python",
   "name": "python",
   "nbconvert_exporter": "python",
   "pygments_lexer": "ipython3",
   "version": "3.13.5"
  }
 },
 "nbformat": 4,
 "nbformat_minor": 5
}
